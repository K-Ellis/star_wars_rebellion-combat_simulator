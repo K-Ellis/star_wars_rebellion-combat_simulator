{
 "cells": [
  {
   "cell_type": "code",
   "execution_count": 1,
   "metadata": {
    "collapsed": true
   },
   "outputs": [],
   "source": [
    "import random\n",
    "import numpy as np"
   ]
  },
  {
   "cell_type": "code",
   "execution_count": 2,
   "metadata": {
    "collapsed": true
   },
   "outputs": [],
   "source": [
    "# rename to RS_all_possible_units_dict\n",
    "RS_units_dict = {\n",
    "    \"X-wings\": {\n",
    "        \"InitialNumUnits\": 0,\n",
    "        \"CurrentNumUnits\": 0,\n",
    "        \"Black\": 1,\n",
    "        \"Red\": 0,\n",
    "        \"Health\": 1,\n",
    "        \"Damage\": 0,\n",
    "        \"isBlack\": True\n",
    "    }\n",
    "                    ,\n",
    "    \"U-wings\": {\n",
    "        \"InitialNumUnits\": 0,\n",
    "        \"CurrentNumUnits\": 0,\n",
    "        \"Black\": 0,\n",
    "        \"Red\": 1,\n",
    "        \"Health\": 1,\n",
    "        \"Damage\": 0,\n",
    "        \"isBlack\": True\n",
    "        \n",
    "    }\n",
    "}\n",
    "ES_units_dict = {\n",
    "    \"Tie_Fighter\": {\n",
    "        \"InitialNumUnits\": 0,\n",
    "        \"CurrentNumUnits\": 0,\n",
    "        \"Black\": 1,\n",
    "        \"Red\": 0,\n",
    "        \"Health\": 1,\n",
    "        \"Damage\": 0,\n",
    "        \"isBlack\": True\n",
    "    }\n",
    "                    ,\n",
    "    \"Star_Destroyer\": {\n",
    "        \"InitialNumUnits\": 0,\n",
    "        \"CurrentNumUnits\": 0,\n",
    "        \"Black\": 1,\n",
    "        \"Red\": 2,\n",
    "        \"Health\": 4,\n",
    "        \"Damage\": 0,\n",
    "        \"isBlack\": False\n",
    "    }\n",
    "}"
   ]
  },
  {
   "cell_type": "code",
   "execution_count": null,
   "metadata": {
    "collapsed": true
   },
   "outputs": [],
   "source": []
  },
  {
   "cell_type": "code",
   "execution_count": 3,
   "metadata": {},
   "outputs": [
    {
     "name": "stdout",
     "output_type": "stream",
     "text": [
      "X-wings: 2\n",
      "U-wings: 1\n",
      "[{'X-wings': {'InitialNumUnits': 2, 'CurrentNumUnits': 2, 'Black': 1, 'Red': 0, 'Health': 1, 'Damage': 0, 'isBlack': True}, 'U-wings': {'InitialNumUnits': 1, 'CurrentNumUnits': 1, 'Black': 0, 'Red': 1, 'Health': 1, 'Damage': 0, 'isBlack': True}}, {'Tie_Fighter': {'InitialNumUnits': 0, 'CurrentNumUnits': 0, 'Black': 1, 'Red': 0, 'Health': 1, 'Damage': 0, 'isBlack': True}, 'Star_Destroyer': {'InitialNumUnits': 0, 'CurrentNumUnits': 0, 'Black': 1, 'Red': 2, 'Health': 4, 'Damage': 0, 'isBlack': False}}]\n",
      "Tie_Fighter: 3\n",
      "Star_Destroyer: 2\n",
      "[{'X-wings': {'InitialNumUnits': 2, 'CurrentNumUnits': 2, 'Black': 1, 'Red': 0, 'Health': 1, 'Damage': 0, 'isBlack': True}, 'U-wings': {'InitialNumUnits': 1, 'CurrentNumUnits': 1, 'Black': 0, 'Red': 1, 'Health': 1, 'Damage': 0, 'isBlack': True}}, {'Tie_Fighter': {'InitialNumUnits': 3, 'CurrentNumUnits': 3, 'Black': 1, 'Red': 0, 'Health': 1, 'Damage': 0, 'isBlack': True}, 'Star_Destroyer': {'InitialNumUnits': 2, 'CurrentNumUnits': 2, 'Black': 1, 'Red': 2, 'Health': 4, 'Damage': 0, 'isBlack': False}}]\n"
     ]
    }
   ],
   "source": [
    "space = [RS_units_dict, ES_units_dict]\n",
    "for side in space:\n",
    "    for unit in side:\n",
    "        not_accepted = True\n",
    "        while not_accepted:\n",
    "            try:\n",
    "                user_noUnits = int(input(\"%s: \" % unit))\n",
    "                not_accepted = False\n",
    "            except:\n",
    "                print(\"not a valid number of units\")\n",
    "\n",
    "        side[unit][\"InitialNumUnits\"] = user_noUnits\n",
    "        side[unit][\"CurrentNumUnits\"] = user_noUnits\n",
    "\n",
    "    print(space)"
   ]
  },
  {
   "cell_type": "code",
   "execution_count": 4,
   "metadata": {},
   "outputs": [
    {
     "name": "stdout",
     "output_type": "stream",
     "text": [
      "2 1\n",
      "5 4\n"
     ]
    }
   ],
   "source": [
    "def get_dice(unit_dict):\n",
    "    black_d, red_d = 0, 0\n",
    "    for unit in unit_dict:\n",
    "        black_d += unit_dict[unit][\"Black\"] * unit_dict[unit][\"CurrentNumUnits\"]\n",
    "        red_d += unit_dict[unit][\"Red\"] * unit_dict[unit][\"CurrentNumUnits\"]\n",
    "    if black_d > 5:\n",
    "        black_d = 5\n",
    "    if red_d > 5:\n",
    "        red_d = 5\n",
    "    return black_d, red_d\n",
    "\n",
    "Rblack_d, Rred_d = get_dice(RS_units_dict)\n",
    "print(Rblack_d, Rred_d)\n",
    "\n",
    "Eblack_d, Ered_d = get_dice(ES_units_dict)\n",
    "print(Eblack_d, Ered_d)"
   ]
  },
  {
   "cell_type": "code",
   "execution_count": 5,
   "metadata": {},
   "outputs": [
    {
     "name": "stdout",
     "output_type": "stream",
     "text": [
      "{'Miss': 0, 'Hit': 2, 'Direct': 0, 'Block': 0} {'Miss': 1, 'Hit': 0, 'Direct': 0, 'Block': 0}\n",
      "{'Miss': 1, 'Hit': 1, 'Direct': 2, 'Block': 1} {'Miss': 1, 'Hit': 2, 'Direct': 0, 'Block': 1}\n"
     ]
    }
   ],
   "source": [
    "def roll_die(num_dice):    \n",
    "    results_of_rolls = {\"Miss\":0,\n",
    "            \"Hit\":0,\n",
    "            \"Direct\":0,\n",
    "            \"Block\":0}\n",
    "      \n",
    "    for i in range(num_dice):\n",
    "        roll = random.randint(1,6) \n",
    "        if roll <= 2:\n",
    "            results_of_rolls[\"Miss\"] += 1\n",
    "        elif roll == 3 or roll == 4:\n",
    "            results_of_rolls[\"Hit\"] += 1\n",
    "        elif roll == 5:\n",
    "            results_of_rolls[\"Direct\"] += 1\n",
    "        else:\n",
    "            results_of_rolls[\"Block\"] +=1\n",
    "            \n",
    "    return results_of_rolls\n",
    "\n",
    "RrollsBlack = roll_die(Rblack_d)\n",
    "RrollsRed = roll_die(Rred_d)\n",
    "print(RrollsBlack, RrollsRed)\n",
    "\n",
    "ErollsBlack = roll_die(Eblack_d)\n",
    "ErollsRed = roll_die(Ered_d)\n",
    "print(ErollsBlack, ErollsRed)"
   ]
  },
  {
   "cell_type": "markdown",
   "metadata": {},
   "source": [
    "re rolls for leaders\n",
    "\n",
    "need to say priorities in advance\n",
    "\n",
    "if there's only red enemy units alive, then re roll red misses\n",
    "\n",
    "if priorities are to kill black units then re roll black misses/ black Block if no damaged units\n",
    "\n",
    "save  and load units alive and damage between rounds - write to file\n",
    "\n",
    "assigning damage when there are priorities:\n",
    "- if a priority is set: damage assigned to object will always be health+1, i.e. when unit dies and there are several units, health+1 damage will be taken away from total damage of all objects\n",
    "e.g.: priority is set on star destroyer. empire has two star destroyers. rebel assigns 8 damage to star destroyers. now one is dead and the other one is left with 3 damage. \n",
    "<br /> basically once an object is set as priority it will always get overdamaged by one\n",
    "\n",
    "healing:\n",
    "<br />\n",
    "\n",
    "rerolling:\n",
    "<br />"
   ]
  },
  {
   "cell_type": "markdown",
   "metadata": {},
   "source": [
    "# priorities"
   ]
  },
  {
   "cell_type": "markdown",
   "metadata": {},
   "source": [
    "- do you have a priority?\n",
    "    - yes\n",
    "    - what unit\n",
    "    "
   ]
  },
  {
   "cell_type": "code",
   "execution_count": 6,
   "metadata": {
    "collapsed": true
   },
   "outputs": [],
   "source": [
    "# define/update theatre variable somewhere\n",
    "theatre = \"Space\"\n",
    "\n",
    "if theatre == \"Space\":\n",
    "    current_theatre_units_state = space\n",
    "else:\n",
    "    current_theatre_units_state = ground"
   ]
  },
  {
   "cell_type": "code",
   "execution_count": 7,
   "metadata": {},
   "outputs": [
    {
     "name": "stdout",
     "output_type": "stream",
     "text": [
      "Rebel: Do you have a priority? (y/n) y\n",
      "\t 1 - Tie_Fighter\n",
      "\t 2 - Star_Destroyer\n",
      "Rebel: What is priority? 2\n",
      "Empire: Do you have a priority? (y/n) n\n",
      "Star_Destroyer\n",
      "None\n"
     ]
    }
   ],
   "source": [
    "def get_priority(R_or_E, R_or_Ei, space_or_ground_units_dict):\n",
    "    if input(\"%s: Do you have a priority? (y/n) \" % R_or_E) == \"y\":\n",
    "        current_alive_names_index_list = []\n",
    "            \n",
    "        for i, key in enumerate(space_or_ground_units_dict[R_or_Ei].keys()):\n",
    "            current_alive_names_index_list.append(key)\n",
    "            print(\"\\t %s - %s\" % ((i+1), key))\n",
    "            \n",
    "        priority_i = int(input(\"%s: What is priority? \" % R_or_E))\n",
    "        priority = current_alive_names_index_list[(priority_i - 1)]\n",
    "\n",
    "        return priority\n",
    "        \n",
    "\n",
    "R_priority = get_priority(\"Rebel\", 1, current_theatre_units_state)\n",
    "E_priority = get_priority(\"Empire\", 0, current_theatre_units_state)\n",
    "\n",
    "print(R_priority)\n",
    "print(E_priority)"
   ]
  },
  {
   "cell_type": "markdown",
   "metadata": {},
   "source": [
    "# Rerolls"
   ]
  },
  {
   "cell_type": "markdown",
   "metadata": {
    "collapsed": true
   },
   "source": [
    "Reroll opponents die\n",
    "\n",
    "probability of a reroll = leaders score/total number of opponents dice which are not misses\n",
    "\n",
    "e.g. leader's combat score is 3, and opponent has 6 dice (two of which are misses, so 4 non-miss die) then each non-miss die has a 3/4 probability of being rerolled"
   ]
  },
  {
   "cell_type": "code",
   "execution_count": 8,
   "metadata": {},
   "outputs": [
    {
     "name": "stdout",
     "output_type": "stream",
     "text": [
      "Rebel leader's score: 2\n",
      "Empire leader's score: 1\n"
     ]
    }
   ],
   "source": [
    "def get_leader_score(R_or_E):\n",
    "    not_accepted = True\n",
    "    while not_accepted:\n",
    "        try:\n",
    "            leader_score = int(input(\"%s leader's score: \" % R_or_E))\n",
    "            not_accepted = False\n",
    "        except:\n",
    "            print(\"not a valid number of units\")\n",
    "    return leader_score\n",
    "\n",
    "R_leader_score = get_leader_score(\"Rebel\")\n",
    "E_leader_score = get_leader_score(\"Empire\")"
   ]
  },
  {
   "cell_type": "code",
   "execution_count": 9,
   "metadata": {
    "collapsed": true
   },
   "outputs": [],
   "source": [
    "def reroll_one_colour(opponentB_or_R, probability_of_rerolling):\n",
    "    successful_reroll_count = 0\n",
    "    for k, v in opponentB_or_R.items():\n",
    "        if k != \"Miss\":\n",
    "            if v > 0:\n",
    "                for i in range(v):\n",
    "                    rnum = random.random()\n",
    "                    if rnum <= probability_of_rerolling:\n",
    "                        opponentB_or_R[k] -= 1\n",
    "                        successful_reroll_count += 1\n",
    "\n",
    "    new_rolls = np.array(list(roll_die(successful_reroll_count).values()))\n",
    "\n",
    "    new_opponent_values = np.array(list(opponentB_or_R.values())) + new_rolls\n",
    "\n",
    "    for i, k in enumerate(opponentB_or_R.keys()):\n",
    "        opponentB_or_R[k] = new_opponent_values[i]\n",
    "\n",
    "    return opponentB_or_R"
   ]
  },
  {
   "cell_type": "code",
   "execution_count": 210,
   "metadata": {},
   "outputs": [
    {
     "name": "stdout",
     "output_type": "stream",
     "text": [
      "\n"
     ]
    }
   ],
   "source": [
    "def rerolls(your_leader_score, opponentBlack, opponentRed):\n",
    "    non_miss_dice = opponentBlack[\"Hit\"]    + opponentRed[\"Hit\"] +  \\\n",
    "                    opponentBlack[\"Direct\"] + opponentRed[\"Direct\"] +  \\\n",
    "                    opponentBlack[\"Block\"]  + opponentRed[\"Block\"]\n",
    "    \n",
    "    if non_miss_dice > 0:\n",
    "        probability_of_rerolling = your_leader_score/non_miss_dice\n",
    "        \n",
    "        opponentBlack = reroll_one_colour(opponentBlack, probability_of_rerolling)\n",
    "        opponentRed = reroll_one_colour(opponentRed, probability_of_rerolling)\n",
    "        \n",
    "    return opponentBlack, opponentRed\n",
    "        \n",
    "ErollsBlack_copy = ErollsBlack.copy()\n",
    "ErollsRed_copy = ErollsRed.copy()\n",
    "\n",
    "RrollsBlack_copy = RrollsBlack.copy()\n",
    "RrollsRed_copy = RrollsRed.copy()\n",
    "\n",
    "ErollsBlack_copy, ErollsRed_copy = rerolls(R_leader_score, ErollsBlack_copy, ErollsRed_copy)\n",
    "RrollsBlack_copy, RrollsRed_copy = rerolls(R_leader_score, RrollsBlack_copy, RrollsRed_copy)"
   ]
  },
  {
   "cell_type": "markdown",
   "metadata": {},
   "source": [
    "- rerolls\n",
    "- Block\n",
    "- assign damage\n",
    "- kill units"
   ]
  },
  {
   "cell_type": "markdown",
   "metadata": {},
   "source": [
    "# Blocks"
   ]
  },
  {
   "cell_type": "code",
   "execution_count": 10,
   "metadata": {},
   "outputs": [
    {
     "data": {
      "text/plain": [
       "2"
      ]
     },
     "execution_count": 10,
     "metadata": {},
     "output_type": "execute_result"
    }
   ],
   "source": [
    "1+1"
   ]
  },
  {
   "cell_type": "code",
   "execution_count": null,
   "metadata": {
    "collapsed": true
   },
   "outputs": [],
   "source": [
    "def blocks(Rblack, Rred, Eblack, Ered):\n",
    "    Rblocks = Rblack[\"Block\"] \n",
    "    if Rblack[\"Block\"] > 0:\n",
    "        \n",
    "    Rred[\"Block\"] \n",
    "    \n",
    "    if non_miss_dice > 0:\n",
    "        probability_of_rerolling = your_leader_score/non_miss_dice\n",
    "        \n",
    "        opponentBlack = reroll_one_colour(opponentBlack, probability_of_rerolling)\n",
    "        opponentRed = reroll_one_colour(opponentRed, probability_of_rerolling)\n",
    "        \n",
    "    return opponentBlack, opponentRed\n",
    "        "
   ]
  }
 ],
 "metadata": {
  "kernelspec": {
   "display_name": "Python 3",
   "language": "python",
   "name": "python3"
  },
  "language_info": {
   "codemirror_mode": {
    "name": "ipython",
    "version": 3
   },
   "file_extension": ".py",
   "mimetype": "text/x-python",
   "name": "python",
   "nbconvert_exporter": "python",
   "pygments_lexer": "ipython3",
   "version": "3.6.3"
  }
 },
 "nbformat": 4,
 "nbformat_minor": 2
}
