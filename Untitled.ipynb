{
 "cells": [
  {
   "cell_type": "code",
   "execution_count": 1,
   "metadata": {
    "collapsed": true
   },
   "outputs": [],
   "source": [
    "import random"
   ]
  },
  {
   "cell_type": "code",
   "execution_count": 2,
   "metadata": {
    "collapsed": true
   },
   "outputs": [],
   "source": [
    "RS_units_dict = {\n",
    "    \"X-wings\": {\n",
    "        \"Initial\": 0,\n",
    "        \"Current\": 0,\n",
    "        \"Black\": 1,\n",
    "        \"Red\": 0,\n",
    "        \"Health\": 1,\n",
    "        \"Damage\": 0,\n",
    "        \"isBlack\": True\n",
    "    }\n",
    "                    ,\n",
    "    \"U-wings\": {\n",
    "        \"Initial\": 0,\n",
    "        \"Current\": 0,\n",
    "        \"Black\": 0,\n",
    "        \"Red\": 1,\n",
    "        \"Health\": 1,\n",
    "        \"Damage\": 0,\n",
    "        \"isBlack\": True\n",
    "        \n",
    "    }\n",
    "}\n",
    "ES_units_dict = {\n",
    "    \"Tie_Fighter\": {\n",
    "        \"Initial\": 0,\n",
    "        \"Current\": 0,\n",
    "        \"Black\": 1,\n",
    "        \"Red\": 0,\n",
    "        \"Health\": 1,\n",
    "        \"Damage\": 0,\n",
    "        \"isBlack\": True\n",
    "    }\n",
    "                    ,\n",
    "    \"Star_Destroyer\": {\n",
    "        \"Initial\": 0,\n",
    "        \"Current\": 0,\n",
    "        \"Black\": 1,\n",
    "        \"Red\": 2,\n",
    "        \"Health\": 4,\n",
    "        \"Damage\": 0,\n",
    "        \"isBlack\": False\n",
    "    }\n",
    "}"
   ]
  },
  {
   "cell_type": "code",
   "execution_count": 3,
   "metadata": {},
   "outputs": [
    {
     "name": "stdout",
     "output_type": "stream",
     "text": [
      "X-wings: 2\n",
      "U-wings: 1\n",
      "[{'X-wings': {'Initial': 2, 'Current': 2, 'Black': 1, 'Red': 0, 'Health': 1, 'Damage': 0, 'isBlack': True}, 'U-wings': {'Initial': 1, 'Current': 1, 'Black': 0, 'Red': 1, 'Health': 1, 'Damage': 0, 'isBlack': True}}, {'Tie_Fighter': {'Initial': 0, 'Current': 0, 'Black': 1, 'Red': 0, 'Health': 1, 'Damage': 0, 'isBlack': True}, 'Star_Destroyer': {'Initial': 0, 'Current': 0, 'Black': 1, 'Red': 2, 'Health': 4, 'Damage': 0, 'isBlack': False}}]\n",
      "Tie_Fighter: 4\n",
      "Star_Destroyer: 3\n",
      "[{'X-wings': {'Initial': 2, 'Current': 2, 'Black': 1, 'Red': 0, 'Health': 1, 'Damage': 0, 'isBlack': True}, 'U-wings': {'Initial': 1, 'Current': 1, 'Black': 0, 'Red': 1, 'Health': 1, 'Damage': 0, 'isBlack': True}}, {'Tie_Fighter': {'Initial': 4, 'Current': 4, 'Black': 1, 'Red': 0, 'Health': 1, 'Damage': 0, 'isBlack': True}, 'Star_Destroyer': {'Initial': 3, 'Current': 3, 'Black': 1, 'Red': 2, 'Health': 4, 'Damage': 0, 'isBlack': False}}]\n"
     ]
    }
   ],
   "source": [
    "space = [RS_units_dict, ES_units_dict]\n",
    "for side in space:\n",
    "    for unit in side:\n",
    "        not_accepted = True\n",
    "        while not_accepted:\n",
    "            try:\n",
    "                user_noUnits = int(input(\"%s: \" % unit))\n",
    "                not_accepted = False\n",
    "            except:\n",
    "                print(\"not a valid number of units\")\n",
    "\n",
    "        side[unit][\"Initial\"] = user_noUnits\n",
    "        side[unit][\"Current\"] = user_noUnits\n",
    "\n",
    "    print(space)"
   ]
  },
  {
   "cell_type": "code",
   "execution_count": 4,
   "metadata": {},
   "outputs": [
    {
     "name": "stdout",
     "output_type": "stream",
     "text": [
      "2 1\n",
      "5 5\n"
     ]
    }
   ],
   "source": [
    "def get_dice(unit_dict):\n",
    "    black_d, red_d = 0, 0\n",
    "    for unit in unit_dict:\n",
    "        black_d += unit_dict[unit][\"Black\"] * unit_dict[unit][\"Current\"]\n",
    "        red_d += unit_dict[unit][\"Red\"] * unit_dict[unit][\"Current\"]\n",
    "    if black_d > 5:\n",
    "        black_d = 5\n",
    "    if red_d > 5:\n",
    "        red_d = 5\n",
    "    return black_d, red_d\n",
    "\n",
    "RSblack_d, RSred_d = get_dice(RS_units_dict)\n",
    "print(RSblack_d, RSred_d)\n",
    "\n",
    "ESblack_d, ESred_d = get_dice(ES_units_dict)\n",
    "print(ESblack_d, ESred_d)"
   ]
  },
  {
   "cell_type": "code",
   "execution_count": 5,
   "metadata": {},
   "outputs": [
    {
     "data": {
      "text/plain": [
       "{'Black': {'Direct': 0, 'Heal': 1, 'Hit': 0, 'Miss': 1},\n",
       " 'Red': {'Direct': 0, 'Heal': 0, 'Hit': 1, 'Miss': 0}}"
      ]
     },
     "execution_count": 5,
     "metadata": {},
     "output_type": "execute_result"
    }
   ],
   "source": [
    "def roll_dice(black_d, red_d):\n",
    "    d_colours = [\"Black\", \"Red\"]\n",
    "    \n",
    "    rolls = {\n",
    "        \"Black\" : {\n",
    "            \"Miss\":0,\n",
    "            \"Hit\":0,\n",
    "            \"Direct\":0,\n",
    "            \"Heal\":0\n",
    "        },\n",
    "        \"Red\": {\n",
    "            \"Miss\":0,\n",
    "            \"Hit\":0,\n",
    "            \"Direct\":0,\n",
    "            \"Heal\":0\n",
    "        }\n",
    "    }\n",
    "    \n",
    "    for d_col, d_num in zip(d_colours, [black_d, red_d]):        \n",
    "        for i in range(d_num):\n",
    "            roll = random.randint(1,6) \n",
    "            if roll <= 2:\n",
    "                rolls[d_col][\"Miss\"] += 1\n",
    "            elif roll == 3 or roll == 4:\n",
    "                rolls[d_col][\"Hit\"] += 1\n",
    "            elif roll == 5:\n",
    "                rolls[d_col][\"Direct\"] += 1\n",
    "            else:\n",
    "                rolls[d_col][\"Heal\"] +=1\n",
    "            \n",
    "    return rolls\n",
    "\n",
    "rolls = roll_dice(RSblack_d, RSred_d)\n",
    "rolls"
   ]
  },
  {
   "cell_type": "markdown",
   "metadata": {},
   "source": [
    "re rolls for leaders\n",
    "\n",
    "need to say priorities in advance\n",
    "\n",
    "if there's only red enemy units alive, then re roll red misses\n",
    "\n",
    "if priorities are to kill black units then re roll black misses/ black heals if no damaged units"
   ]
  },
  {
   "cell_type": "markdown",
   "metadata": {},
   "source": [
    "# priorities"
   ]
  },
  {
   "cell_type": "markdown",
   "metadata": {},
   "source": [
    "- do you have a priority?\n",
    "    - yes\n",
    "    - what unit\n",
    "    "
   ]
  },
  {
   "cell_type": "code",
   "execution_count": 18,
   "metadata": {},
   "outputs": [
    {
     "name": "stdout",
     "output_type": "stream",
     "text": [
      "Rebels: Do you have a priority? (y/n) y\n",
      "\t 0 - Tie_Fighter\n",
      "\t 1 - Star_Destroyer\n",
      "Rebels: What is priority? 1\n",
      "Star_Destroyer\n"
     ]
    }
   ],
   "source": [
    "if input(\"Rebels: Do you have a priority? (y/n) \") == \"y\":\n",
    "    current_alive_names_index_list = []\n",
    "    for i, key in enumerate(space[1].keys()):\n",
    "        current_alive_names_index_list.append(key)\n",
    "        print(\"\\t %s - %s\" % (i, key))\n",
    "    RS_priority_i = int(input(\"Rebels: What is priority? \"))\n",
    "    RS_priority = current_alive_names_index_list[RS_priority_i]\n",
    "    \n",
    "    print(RS_priority)"
   ]
  },
  {
   "cell_type": "markdown",
   "metadata": {},
   "source": [
    "# Rerolls"
   ]
  },
  {
   "cell_type": "code",
   "execution_count": null,
   "metadata": {
    "collapsed": true
   },
   "outputs": [],
   "source": []
  },
  {
   "cell_type": "markdown",
   "metadata": {},
   "source": [
    "- rerolls\n",
    "- assign damage\n",
    "- heal\n",
    "- kill units"
   ]
  }
 ],
 "metadata": {
  "kernelspec": {
   "display_name": "Python 3",
   "language": "python",
   "name": "python3"
  },
  "language_info": {
   "codemirror_mode": {
    "name": "ipython",
    "version": 3
   },
   "file_extension": ".py",
   "mimetype": "text/x-python",
   "name": "python",
   "nbconvert_exporter": "python",
   "pygments_lexer": "ipython3",
   "version": "3.6.3"
  }
 },
 "nbformat": 4,
 "nbformat_minor": 2
}
